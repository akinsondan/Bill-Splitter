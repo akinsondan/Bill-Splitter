{
 "cells": [
  {
   "cell_type": "code",
   "execution_count": null,
   "id": "0956886f",
   "metadata": {},
   "outputs": [],
   "source": [
    "import random\n",
    "friends = []\n",
    "num_ppl = int(input('No of friends:\\n'))\n",
    "print()\n",
    "if num_ppl <= 0:\n",
    "    print(\"No one is joining for the party\")\n",
    "else:\n",
    "    print('Enter names of friends:\\n')\n",
    "    for i in range(num_ppl):\n",
    "        friends_name = input()\n",
    "        friends.append(friends_name)\n",
    "    print()\n",
    "    total_bill = int(input('Enter the total bill value:\\n'))\n",
    "    bill = round(total_bill/num_ppl, 2)\n",
    "    lucky_feature = input('Do you want to use the \"Who is lucky?\" feature? Write Yes/No: ')\n",
    "    print()\n",
    "    if lucky_feature == 'Yes':\n",
    "        lucky_one = random.choice(friends)\n",
    "        new_split = num_ppl - 1\n",
    "        new_bill = round(total_bill/new_split, 2)\n",
    "        new_friend_dict = dict.fromkeys(friends, new_bill)\n",
    "        if lucky_one in new_friend_dict:\n",
    "            new_friend_dict[lucky_one] = 0\n",
    "        print()\n",
    "        print(lucky_one, 'is the lucly one')\n",
    "        print()\n",
    "        print(new_friend_dict)\n",
    "    else:\n",
    "        print()\n",
    "        print('No one is going to be lucky')\n",
    "        friend_dict = dict.fromkeys(friends, bill)\n",
    "    \n",
    "        print(friend_dict)\n",
    "    #print(frnds_dict)\n"
   ]
  }
 ],
 "metadata": {
  "kernelspec": {
   "display_name": "Python 3 (ipykernel)",
   "language": "python",
   "name": "python3"
  },
  "language_info": {
   "codemirror_mode": {
    "name": "ipython",
    "version": 3
   },
   "file_extension": ".py",
   "mimetype": "text/x-python",
   "name": "python",
   "nbconvert_exporter": "python",
   "pygments_lexer": "ipython3",
   "version": "3.9.12"
  }
 },
 "nbformat": 4,
 "nbformat_minor": 5
}
